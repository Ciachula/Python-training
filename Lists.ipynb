{
 "cells": [
  {
   "cell_type": "markdown",
   "id": "01687186",
   "metadata": {},
   "source": [
    "# Python Interactive Cheat Sheet\n",
    "## Lists"
   ]
  },
  {
   "cell_type": "code",
   "execution_count": 4,
   "id": "b1a0af99",
   "metadata": {},
   "outputs": [
    {
     "name": "stdout",
     "output_type": "stream",
     "text": [
      "['Learning', 'Python', 'is', 'fun!']\n",
      "Learning\n",
      "fun!\n",
      "['Learning', 'Python']\n",
      "[1, 2, 3, 4, 5]\n",
      "[1, 2, 3, 4, 5, 6, 7, 8, 9, 10]\n",
      "[1, 2, 3]\n"
     ]
    }
   ],
   "source": [
    "# Create a list\n",
    "my_list = [\"Learning\", \"Python\", \"is\", \"fun!\"]\n",
    "\n",
    "# Print the list\n",
    "print(my_list)\n",
    "\n",
    "# Create a list\n",
    "my_list = [\"Learning\", \"Python\", \"is\", \"fun!\"]\n",
    "\n",
    "# Print the first element of my_list\n",
    "print(my_list[0])\n",
    "\n",
    "# Print the last element of my_list\n",
    "print(my_list[-1])\n",
    "\n",
    "# Print the first two elements of my_list\n",
    "print(my_list[0:2])\n",
    "\n",
    "# Create a list\n",
    "numbers = [1, 2, 3, 4, 4]\n",
    "\n",
    "# Change the last value\n",
    "numbers[-1] = 5\n",
    "\n",
    "# Print the list\n",
    "print(numbers)\n",
    "\n",
    "# Create a list\n",
    "numbers = [1, 2, 3, 4, 5]\n",
    "\n",
    "# Add additional values\n",
    "more_numbers = numbers + [6, 7, 8, 9, 10]\n",
    "\n",
    "# Print the list\n",
    "print(more_numbers)\n",
    "\n",
    "# Create a list\n",
    "numbers = [1, 2, 3, 4, 5]\n",
    "\n",
    "# Delete the fourth and fifth values in the list\n",
    "del(numbers[3:])\n",
    "\n",
    "# Print the list\n",
    "print(numbers)"
   ]
  }
 ],
 "metadata": {
  "kernelspec": {
   "display_name": "Python 3 (ipykernel)",
   "language": "python",
   "name": "python3"
  },
  "language_info": {
   "codemirror_mode": {
    "name": "ipython",
    "version": 3
   },
   "file_extension": ".py",
   "mimetype": "text/x-python",
   "name": "python",
   "nbconvert_exporter": "python",
   "pygments_lexer": "ipython3",
   "version": "3.9.13"
  }
 },
 "nbformat": 4,
 "nbformat_minor": 5
}

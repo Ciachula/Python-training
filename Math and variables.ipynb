{
 "cells": [
  {
   "cell_type": "markdown",
   "id": "d665df46",
   "metadata": {},
   "source": [
    "# Python Interactive Cheat Sheet\n",
    "## Math and Variables"
   ]
  },
  {
   "cell_type": "code",
   "execution_count": 8,
   "id": "abba66e8",
   "metadata": {},
   "outputs": [
    {
     "name": "stdout",
     "output_type": "stream",
     "text": [
      "10\n",
      "5\n",
      "50\n",
      "2.0\n",
      "5\n",
      "<class 'str'>\n",
      "1\n",
      "1.0\n"
     ]
    }
   ],
   "source": [
    "# Addition\n",
    "print(5 + 5)\n",
    "\n",
    "# Subtraction\n",
    "print(10 - 5)\n",
    "\n",
    "# Multiplication\n",
    "print(5 * 10)\n",
    "\n",
    "# Division\n",
    "print(10 / 5)\n",
    "\n",
    "# Assign a value to x\n",
    "x = 5\n",
    "\n",
    "# Print x\n",
    "print(x)\n",
    "\n",
    "# Assign a variable to x\n",
    "x = \"testing\"\n",
    "\n",
    "# Print the type of x\n",
    "print(type(x))\n",
    "\n",
    "# Assign a string variable to y\n",
    "y = \"1\"\n",
    "\n",
    "# Print y as an integer\n",
    "print(int(y))\n",
    "\n",
    "# Print y as a float\n",
    "print(float(y))\n"
   ]
  }
 ],
 "metadata": {
  "kernelspec": {
   "display_name": "Python 3 (ipykernel)",
   "language": "python",
   "name": "python3"
  },
  "language_info": {
   "codemirror_mode": {
    "name": "ipython",
    "version": 3
   },
   "file_extension": ".py",
   "mimetype": "text/x-python",
   "name": "python",
   "nbconvert_exporter": "python",
   "pygments_lexer": "ipython3",
   "version": "3.9.13"
  }
 },
 "nbformat": 4,
 "nbformat_minor": 5
}

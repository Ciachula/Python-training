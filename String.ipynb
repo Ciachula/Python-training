{
 "cells": [
  {
   "cell_type": "markdown",
   "id": "ddc8b714",
   "metadata": {},
   "source": [
    "# Python Interactive Cheat Sheet\n",
    "## String "
   ]
  },
  {
   "cell_type": "code",
   "execution_count": 1,
   "id": "7bde24ec",
   "metadata": {},
   "outputs": [
    {
     "name": "stdout",
     "output_type": "stream",
     "text": [
      "DATA SCIENCE\n",
      "data science\n",
      "2\n",
      "3\n",
      "0\n",
      "['red', 'blue', 'red', 'red', 'blue', 'green', 'yellow']\n",
      "['yellow', 'green', 'blue', 'red', 'red', 'blue', 'red']\n"
     ]
    }
   ],
   "source": [
    "# Define a string variable\n",
    "x = \"data science\"\n",
    "\n",
    "# Convert the string to uppercase\n",
    "print(x.upper())\n",
    "\n",
    "# Convert the string to lowercase\n",
    "print(x.lower())\n",
    "\n",
    "# Count the number of 'a's\n",
    "print(x.count(\"a\"))\n",
    "\n",
    "# Define a list\n",
    "colors = [\"red\", \"blue\", \"red\", \"red\", \"blue\", \"green\"]\n",
    "\n",
    "# Print out the number of times 'red' appears\n",
    "print(colors.count(\"red\"))\n",
    "\n",
    "# Print out the index of the first 'red'\n",
    "print(colors.index(\"red\"))\n",
    "\n",
    "# Add another element to the list\n",
    "colors.append(\"yellow\")\n",
    "print(colors)\n",
    "\n",
    "# Reverse the list\n",
    "colors.reverse()\n",
    "print(colors)"
   ]
  }
 ],
 "metadata": {
  "kernelspec": {
   "display_name": "Python 3 (ipykernel)",
   "language": "python",
   "name": "python3"
  },
  "language_info": {
   "codemirror_mode": {
    "name": "ipython",
    "version": 3
   },
   "file_extension": ".py",
   "mimetype": "text/x-python",
   "name": "python",
   "nbconvert_exporter": "python",
   "pygments_lexer": "ipython3",
   "version": "3.9.13"
  }
 },
 "nbformat": 4,
 "nbformat_minor": 5
}

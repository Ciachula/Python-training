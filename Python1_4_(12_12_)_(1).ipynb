{
  "cells": [
    {
      "cell_type": "markdown",
      "metadata": {
        "id": "view-in-github",
        "colab_type": "text"
      },
      "source": [
        "<a href=\"https://colab.research.google.com/github/Ciachula/Python-training/blob/main/Python1_4_(12_12_)_(1).ipynb\" target=\"_parent\"><img src=\"https://colab.research.google.com/assets/colab-badge.svg\" alt=\"Open In Colab\"/></a>"
      ]
    },
    {
      "cell_type": "code",
      "execution_count": null,
      "metadata": {
        "id": "TS5SyojjH-Ts"
      },
      "outputs": [],
      "source": [
        "# import pakietów\n",
        "import pandas as pd\n",
        "import datetime\n",
        "import math\n",
        "import numpy as np\n",
        "import matplotlib.pyplot as plt"
      ]
    },
    {
      "cell_type": "code",
      "execution_count": null,
      "metadata": {
        "id": "WjPf3LEuIbTd"
      },
      "outputs": [],
      "source": [
        "# Wczytanie pliku csv - dodatkowe parametry - nagłówek, nazwy kolumn, typ danych\n",
        "df = pd.read_csv('employees-data.csv', header=None,\n",
        "                 names = ['name', 'surname', 'PESEL'],\n",
        "                 dtype = {'PESEL' : str})"
      ]
    },
    {
      "cell_type": "code",
      "execution_count": null,
      "metadata": {
        "colab": {
          "base_uri": "https://localhost:8080/"
        },
        "id": "d6-cbbrQImTq",
        "outputId": "370f7f1b-d709-44a6-dab1-34e7e87aea5e"
      },
      "outputs": [
        {
          "data": {
            "text/plain": [
              "(25, 3)"
            ]
          },
          "execution_count": 43,
          "metadata": {},
          "output_type": "execute_result"
        }
      ],
      "source": [
        "df.shape"
      ]
    },
    {
      "cell_type": "code",
      "execution_count": null,
      "metadata": {
        "id": "w5YID7SWOevA"
      },
      "outputs": [],
      "source": [
        "# metoda obliczająca datę urodzenia - in progress\n",
        "def get_date(pesel):\n",
        "  year = pesel[0:2]\n",
        "  month = pesel[2:4]\n",
        "  day = pesel[4:6]\n",
        "  if int(month)>12:\n",
        "    year = \"20\" + year\n",
        "    month = str(int(month) - 20)\n",
        "  else:\n",
        "    year = \"19\" + year\n",
        "  return datetime.datetime.strptime(f'{day}-{month}-{year}', '%d-%m-%Y')\n",
        "\n",
        "# metoda obliczająca wiek na podstawie daty urodzenia\n",
        "def get_age(date_birth):\n",
        "  return math.floor((datetime.datetime.now() - date_birth).days/365.25)\n",
        "\n",
        "# metoda określająca płeć na podstawie peselu\n",
        "def get_sex(pesel):\n",
        "  # elementy listy muszą być typu string - sprawdzany pesel jest string.\n",
        "  if pesel[9] in ['0', '2', '4', '6', '8']: # Czy wartość znajduje się w liście\n",
        "    return \"Female\"\n",
        "  else:\n",
        "    return \"Male\""
      ]
    },
    {
      "cell_type": "code",
      "execution_count": null,
      "metadata": {
        "id": "OtmCfOJpoKdv",
        "outputId": "1be6bb32-869c-4558-a194-bab1e3d3c4bd"
      },
      "outputs": [
        {
          "data": {
            "text/plain": [
              "name                  object\n",
              "surname               object\n",
              "PESEL                 object\n",
              "date_birth    datetime64[ns]\n",
              "age                    int64\n",
              "sex                   object\n",
              "month                  int64\n",
              "dtype: object"
            ]
          },
          "execution_count": 48,
          "metadata": {},
          "output_type": "execute_result"
        }
      ],
      "source": [
        "#metoda okreslajaca miesiac na podstawie daty\n",
        "\n",
        "def get_month(data_urodzenia):\n",
        "    return data_urodzenia.month\n",
        "\n",
        "df['month'] = df['date_birth'].apply(get_month)\n",
        "df.dtypes"
      ]
    },
    {
      "cell_type": "code",
      "execution_count": null,
      "metadata": {
        "colab": {
          "base_uri": "https://localhost:8080/",
          "height": 833
        },
        "id": "DtKWmk69KmfC",
        "outputId": "b5d0b58b-cbbf-499d-9924-210075703fa8"
      },
      "outputs": [
        {
          "data": {
            "text/html": [
              "<div>\n",
              "<style scoped>\n",
              "    .dataframe tbody tr th:only-of-type {\n",
              "        vertical-align: middle;\n",
              "    }\n",
              "\n",
              "    .dataframe tbody tr th {\n",
              "        vertical-align: top;\n",
              "    }\n",
              "\n",
              "    .dataframe thead th {\n",
              "        text-align: right;\n",
              "    }\n",
              "</style>\n",
              "<table border=\"1\" class=\"dataframe\">\n",
              "  <thead>\n",
              "    <tr style=\"text-align: right;\">\n",
              "      <th></th>\n",
              "      <th>name</th>\n",
              "      <th>surname</th>\n",
              "      <th>PESEL</th>\n",
              "      <th>date_birth</th>\n",
              "      <th>age</th>\n",
              "      <th>sex</th>\n",
              "      <th>month</th>\n",
              "    </tr>\n",
              "  </thead>\n",
              "  <tbody>\n",
              "    <tr>\n",
              "      <th>0</th>\n",
              "      <td>Rozalia</td>\n",
              "      <td>Olejnik</td>\n",
              "      <td>03302154004</td>\n",
              "      <td>2003-10-21</td>\n",
              "      <td>19</td>\n",
              "      <td>Female</td>\n",
              "      <td>10</td>\n",
              "    </tr>\n",
              "    <tr>\n",
              "      <th>1</th>\n",
              "      <td>Marlena</td>\n",
              "      <td>Wierzbicka</td>\n",
              "      <td>99091503680</td>\n",
              "      <td>1999-09-15</td>\n",
              "      <td>23</td>\n",
              "      <td>Female</td>\n",
              "      <td>9</td>\n",
              "    </tr>\n",
              "    <tr>\n",
              "      <th>2</th>\n",
              "      <td>Oleksii</td>\n",
              "      <td>Sikora</td>\n",
              "      <td>02210841550</td>\n",
              "      <td>2002-01-08</td>\n",
              "      <td>20</td>\n",
              "      <td>Male</td>\n",
              "      <td>1</td>\n",
              "    </tr>\n",
              "    <tr>\n",
              "      <th>3</th>\n",
              "      <td>Florian</td>\n",
              "      <td>Laskowski</td>\n",
              "      <td>03321815739</td>\n",
              "      <td>2003-12-18</td>\n",
              "      <td>19</td>\n",
              "      <td>Male</td>\n",
              "      <td>12</td>\n",
              "    </tr>\n",
              "    <tr>\n",
              "      <th>4</th>\n",
              "      <td>Milosz</td>\n",
              "      <td>Zieba</td>\n",
              "      <td>86080910275</td>\n",
              "      <td>1986-08-09</td>\n",
              "      <td>36</td>\n",
              "      <td>Male</td>\n",
              "      <td>8</td>\n",
              "    </tr>\n",
              "    <tr>\n",
              "      <th>5</th>\n",
              "      <td>Leonarda</td>\n",
              "      <td>Owczarek</td>\n",
              "      <td>78080468667</td>\n",
              "      <td>1978-08-04</td>\n",
              "      <td>44</td>\n",
              "      <td>Female</td>\n",
              "      <td>8</td>\n",
              "    </tr>\n",
              "    <tr>\n",
              "      <th>6</th>\n",
              "      <td>Franciszka</td>\n",
              "      <td>Marek</td>\n",
              "      <td>63072610661</td>\n",
              "      <td>1963-07-26</td>\n",
              "      <td>59</td>\n",
              "      <td>Female</td>\n",
              "      <td>7</td>\n",
              "    </tr>\n",
              "    <tr>\n",
              "      <th>7</th>\n",
              "      <td>Diana</td>\n",
              "      <td>Matuszewska</td>\n",
              "      <td>94032262424</td>\n",
              "      <td>1994-03-22</td>\n",
              "      <td>28</td>\n",
              "      <td>Female</td>\n",
              "      <td>3</td>\n",
              "    </tr>\n",
              "    <tr>\n",
              "      <th>8</th>\n",
              "      <td>Bartosz</td>\n",
              "      <td>Kucharski</td>\n",
              "      <td>78103055856</td>\n",
              "      <td>1978-10-30</td>\n",
              "      <td>44</td>\n",
              "      <td>Male</td>\n",
              "      <td>10</td>\n",
              "    </tr>\n",
              "    <tr>\n",
              "      <th>9</th>\n",
              "      <td>Honorata</td>\n",
              "      <td>Urbaniak</td>\n",
              "      <td>00222093686</td>\n",
              "      <td>2000-02-20</td>\n",
              "      <td>22</td>\n",
              "      <td>Female</td>\n",
              "      <td>2</td>\n",
              "    </tr>\n",
              "    <tr>\n",
              "      <th>10</th>\n",
              "      <td>Ignacy</td>\n",
              "      <td>Gajda</td>\n",
              "      <td>01271398371</td>\n",
              "      <td>2001-07-13</td>\n",
              "      <td>21</td>\n",
              "      <td>Male</td>\n",
              "      <td>7</td>\n",
              "    </tr>\n",
              "    <tr>\n",
              "      <th>11</th>\n",
              "      <td>Mieczyslaw</td>\n",
              "      <td>Chojnacki</td>\n",
              "      <td>03312637892</td>\n",
              "      <td>2003-11-26</td>\n",
              "      <td>19</td>\n",
              "      <td>Male</td>\n",
              "      <td>11</td>\n",
              "    </tr>\n",
              "    <tr>\n",
              "      <th>12</th>\n",
              "      <td>Maksymilian</td>\n",
              "      <td>Gajda</td>\n",
              "      <td>62102231379</td>\n",
              "      <td>1962-10-22</td>\n",
              "      <td>60</td>\n",
              "      <td>Male</td>\n",
              "      <td>10</td>\n",
              "    </tr>\n",
              "    <tr>\n",
              "      <th>13</th>\n",
              "      <td>Leszek</td>\n",
              "      <td>Lipinski</td>\n",
              "      <td>85090386611</td>\n",
              "      <td>1985-09-03</td>\n",
              "      <td>37</td>\n",
              "      <td>Male</td>\n",
              "      <td>9</td>\n",
              "    </tr>\n",
              "    <tr>\n",
              "      <th>14</th>\n",
              "      <td>Lena</td>\n",
              "      <td>Sliwinska</td>\n",
              "      <td>84110422123</td>\n",
              "      <td>1984-11-04</td>\n",
              "      <td>38</td>\n",
              "      <td>Female</td>\n",
              "      <td>11</td>\n",
              "    </tr>\n",
              "    <tr>\n",
              "      <th>15</th>\n",
              "      <td>Sergiusz</td>\n",
              "      <td>Michalak</td>\n",
              "      <td>74052999935</td>\n",
              "      <td>1974-05-29</td>\n",
              "      <td>48</td>\n",
              "      <td>Male</td>\n",
              "      <td>5</td>\n",
              "    </tr>\n",
              "    <tr>\n",
              "      <th>16</th>\n",
              "      <td>Grzegorz</td>\n",
              "      <td>Gorecki</td>\n",
              "      <td>01261872335</td>\n",
              "      <td>2001-06-18</td>\n",
              "      <td>21</td>\n",
              "      <td>Male</td>\n",
              "      <td>6</td>\n",
              "    </tr>\n",
              "    <tr>\n",
              "      <th>17</th>\n",
              "      <td>Alexander</td>\n",
              "      <td>Janik</td>\n",
              "      <td>03291596836</td>\n",
              "      <td>2003-09-15</td>\n",
              "      <td>19</td>\n",
              "      <td>Male</td>\n",
              "      <td>9</td>\n",
              "    </tr>\n",
              "    <tr>\n",
              "      <th>18</th>\n",
              "      <td>Volodymyr</td>\n",
              "      <td>Kaczmarczyk</td>\n",
              "      <td>98092905675</td>\n",
              "      <td>1998-09-29</td>\n",
              "      <td>24</td>\n",
              "      <td>Male</td>\n",
              "      <td>9</td>\n",
              "    </tr>\n",
              "    <tr>\n",
              "      <th>19</th>\n",
              "      <td>Wioleta</td>\n",
              "      <td>Romanowska</td>\n",
              "      <td>02210372906</td>\n",
              "      <td>2002-01-03</td>\n",
              "      <td>20</td>\n",
              "      <td>Female</td>\n",
              "      <td>1</td>\n",
              "    </tr>\n",
              "    <tr>\n",
              "      <th>20</th>\n",
              "      <td>Martyna</td>\n",
              "      <td>Sosnowska</td>\n",
              "      <td>01323113244</td>\n",
              "      <td>2001-12-31</td>\n",
              "      <td>20</td>\n",
              "      <td>Female</td>\n",
              "      <td>12</td>\n",
              "    </tr>\n",
              "    <tr>\n",
              "      <th>21</th>\n",
              "      <td>Leokadia</td>\n",
              "      <td>Ratajczak</td>\n",
              "      <td>98060322743</td>\n",
              "      <td>1998-06-03</td>\n",
              "      <td>24</td>\n",
              "      <td>Female</td>\n",
              "      <td>6</td>\n",
              "    </tr>\n",
              "    <tr>\n",
              "      <th>22</th>\n",
              "      <td>Gizela</td>\n",
              "      <td>Witkowska</td>\n",
              "      <td>03241136262</td>\n",
              "      <td>2003-04-11</td>\n",
              "      <td>19</td>\n",
              "      <td>Female</td>\n",
              "      <td>4</td>\n",
              "    </tr>\n",
              "    <tr>\n",
              "      <th>23</th>\n",
              "      <td>Marcelina</td>\n",
              "      <td>Duda</td>\n",
              "      <td>01283196480</td>\n",
              "      <td>2001-08-31</td>\n",
              "      <td>21</td>\n",
              "      <td>Female</td>\n",
              "      <td>8</td>\n",
              "    </tr>\n",
              "    <tr>\n",
              "      <th>24</th>\n",
              "      <td>Gabriela</td>\n",
              "      <td>Glowacka</td>\n",
              "      <td>98062307321</td>\n",
              "      <td>1998-06-23</td>\n",
              "      <td>24</td>\n",
              "      <td>Female</td>\n",
              "      <td>6</td>\n",
              "    </tr>\n",
              "  </tbody>\n",
              "</table>\n",
              "</div>"
            ],
            "text/plain": [
              "           name      surname        PESEL date_birth  age     sex  month\n",
              "0       Rozalia      Olejnik  03302154004 2003-10-21   19  Female     10\n",
              "1       Marlena   Wierzbicka  99091503680 1999-09-15   23  Female      9\n",
              "2       Oleksii       Sikora  02210841550 2002-01-08   20    Male      1\n",
              "3       Florian    Laskowski  03321815739 2003-12-18   19    Male     12\n",
              "4        Milosz        Zieba  86080910275 1986-08-09   36    Male      8\n",
              "5      Leonarda     Owczarek  78080468667 1978-08-04   44  Female      8\n",
              "6    Franciszka        Marek  63072610661 1963-07-26   59  Female      7\n",
              "7         Diana  Matuszewska  94032262424 1994-03-22   28  Female      3\n",
              "8       Bartosz    Kucharski  78103055856 1978-10-30   44    Male     10\n",
              "9      Honorata     Urbaniak  00222093686 2000-02-20   22  Female      2\n",
              "10       Ignacy        Gajda  01271398371 2001-07-13   21    Male      7\n",
              "11   Mieczyslaw    Chojnacki  03312637892 2003-11-26   19    Male     11\n",
              "12  Maksymilian        Gajda  62102231379 1962-10-22   60    Male     10\n",
              "13       Leszek     Lipinski  85090386611 1985-09-03   37    Male      9\n",
              "14         Lena    Sliwinska  84110422123 1984-11-04   38  Female     11\n",
              "15     Sergiusz     Michalak  74052999935 1974-05-29   48    Male      5\n",
              "16     Grzegorz      Gorecki  01261872335 2001-06-18   21    Male      6\n",
              "17    Alexander        Janik  03291596836 2003-09-15   19    Male      9\n",
              "18    Volodymyr  Kaczmarczyk  98092905675 1998-09-29   24    Male      9\n",
              "19      Wioleta   Romanowska  02210372906 2002-01-03   20  Female      1\n",
              "20      Martyna    Sosnowska  01323113244 2001-12-31   20  Female     12\n",
              "21     Leokadia    Ratajczak  98060322743 1998-06-03   24  Female      6\n",
              "22       Gizela    Witkowska  03241136262 2003-04-11   19  Female      4\n",
              "23    Marcelina         Duda  01283196480 2001-08-31   21  Female      8\n",
              "24     Gabriela     Glowacka  98062307321 1998-06-23   24  Female      6"
            ]
          },
          "execution_count": 85,
          "metadata": {},
          "output_type": "execute_result"
        }
      ],
      "source": [
        "df['date_birth'] = df['PESEL'].apply(get_date)\n",
        "df['age'] = df['date_birth'].apply(get_age)\n",
        "df['sex'] = df['PESEL'].apply(get_sex)\n",
        "df"
      ]
    },
    {
      "cell_type": "code",
      "execution_count": null,
      "metadata": {
        "colab": {
          "base_uri": "https://localhost:8080/",
          "height": 143
        },
        "id": "DKe2bbylUQ42",
        "outputId": "37c13708-164e-4355-ef0e-59537bc37449"
      },
      "outputs": [
        {
          "data": {
            "text/plain": [
              "Index(['Female', 'Male'], dtype='object', name='sex')"
            ]
          },
          "execution_count": 78,
          "metadata": {},
          "output_type": "execute_result"
        }
      ],
      "source": [
        "# Funkcja group by - zliczanie ilości osób z konkretną płcią\n",
        "sex = df[['sex', 'name']].groupby(['sex']).count()\n",
        "sex.index"
      ]
    },
    {
      "cell_type": "code",
      "execution_count": null,
      "metadata": {
        "id": "adgPyHEHoKdy",
        "outputId": "952a95ed-67b6-4701-a310-96d1b4659a17"
      },
      "outputs": [
        {
          "data": {
            "text/html": [
              "<div>\n",
              "<style scoped>\n",
              "    .dataframe tbody tr th:only-of-type {\n",
              "        vertical-align: middle;\n",
              "    }\n",
              "\n",
              "    .dataframe tbody tr th {\n",
              "        vertical-align: top;\n",
              "    }\n",
              "\n",
              "    .dataframe thead th {\n",
              "        text-align: right;\n",
              "    }\n",
              "</style>\n",
              "<table border=\"1\" class=\"dataframe\">\n",
              "  <thead>\n",
              "    <tr style=\"text-align: right;\">\n",
              "      <th></th>\n",
              "      <th>name</th>\n",
              "    </tr>\n",
              "    <tr>\n",
              "      <th>month</th>\n",
              "      <th></th>\n",
              "    </tr>\n",
              "  </thead>\n",
              "  <tbody>\n",
              "    <tr>\n",
              "      <th>1</th>\n",
              "      <td>2</td>\n",
              "    </tr>\n",
              "    <tr>\n",
              "      <th>2</th>\n",
              "      <td>1</td>\n",
              "    </tr>\n",
              "    <tr>\n",
              "      <th>3</th>\n",
              "      <td>1</td>\n",
              "    </tr>\n",
              "    <tr>\n",
              "      <th>4</th>\n",
              "      <td>1</td>\n",
              "    </tr>\n",
              "    <tr>\n",
              "      <th>5</th>\n",
              "      <td>1</td>\n",
              "    </tr>\n",
              "    <tr>\n",
              "      <th>6</th>\n",
              "      <td>3</td>\n",
              "    </tr>\n",
              "    <tr>\n",
              "      <th>7</th>\n",
              "      <td>2</td>\n",
              "    </tr>\n",
              "    <tr>\n",
              "      <th>8</th>\n",
              "      <td>3</td>\n",
              "    </tr>\n",
              "    <tr>\n",
              "      <th>9</th>\n",
              "      <td>4</td>\n",
              "    </tr>\n",
              "    <tr>\n",
              "      <th>10</th>\n",
              "      <td>3</td>\n",
              "    </tr>\n",
              "    <tr>\n",
              "      <th>11</th>\n",
              "      <td>2</td>\n",
              "    </tr>\n",
              "    <tr>\n",
              "      <th>12</th>\n",
              "      <td>2</td>\n",
              "    </tr>\n",
              "  </tbody>\n",
              "</table>\n",
              "</div>"
            ],
            "text/plain": [
              "       name\n",
              "month      \n",
              "1         2\n",
              "2         1\n",
              "3         1\n",
              "4         1\n",
              "5         1\n",
              "6         3\n",
              "7         2\n",
              "8         3\n",
              "9         4\n",
              "10        3\n",
              "11        2\n",
              "12        2"
            ]
          },
          "execution_count": 50,
          "metadata": {},
          "output_type": "execute_result"
        }
      ],
      "source": [
        "df[['month','name']].groupby(['month']).count()"
      ]
    },
    {
      "cell_type": "code",
      "execution_count": null,
      "metadata": {
        "id": "b0w9nYLYoKdz",
        "outputId": "4c681083-d3a5-4256-af72-ee879249159b"
      },
      "outputs": [
        {
          "data": {
            "text/html": [
              "<div>\n",
              "<style scoped>\n",
              "    .dataframe tbody tr th:only-of-type {\n",
              "        vertical-align: middle;\n",
              "    }\n",
              "\n",
              "    .dataframe tbody tr th {\n",
              "        vertical-align: top;\n",
              "    }\n",
              "\n",
              "    .dataframe thead th {\n",
              "        text-align: right;\n",
              "    }\n",
              "</style>\n",
              "<table border=\"1\" class=\"dataframe\">\n",
              "  <thead>\n",
              "    <tr style=\"text-align: right;\">\n",
              "      <th></th>\n",
              "      <th>age</th>\n",
              "    </tr>\n",
              "    <tr>\n",
              "      <th>sex</th>\n",
              "      <th></th>\n",
              "    </tr>\n",
              "  </thead>\n",
              "  <tbody>\n",
              "    <tr>\n",
              "      <th>Female</th>\n",
              "      <td>27.769231</td>\n",
              "    </tr>\n",
              "    <tr>\n",
              "      <th>Male</th>\n",
              "      <td>30.666667</td>\n",
              "    </tr>\n",
              "  </tbody>\n",
              "</table>\n",
              "</div>"
            ],
            "text/plain": [
              "              age\n",
              "sex              \n",
              "Female  27.769231\n",
              "Male    30.666667"
            ]
          },
          "execution_count": 51,
          "metadata": {},
          "output_type": "execute_result"
        }
      ],
      "source": [
        "df[['sex','age']].groupby(['sex']).mean()"
      ]
    },
    {
      "cell_type": "code",
      "execution_count": null,
      "metadata": {
        "id": "aAuWWFaPoKdz",
        "outputId": "6fab69bd-975d-4b18-c351-fc6369bd1d49"
      },
      "outputs": [
        {
          "data": {
            "text/html": [
              "<div>\n",
              "<style scoped>\n",
              "    .dataframe tbody tr th:only-of-type {\n",
              "        vertical-align: middle;\n",
              "    }\n",
              "\n",
              "    .dataframe tbody tr th {\n",
              "        vertical-align: top;\n",
              "    }\n",
              "\n",
              "    .dataframe thead th {\n",
              "        text-align: right;\n",
              "    }\n",
              "</style>\n",
              "<table border=\"1\" class=\"dataframe\">\n",
              "  <thead>\n",
              "    <tr style=\"text-align: right;\">\n",
              "      <th></th>\n",
              "      <th>age</th>\n",
              "    </tr>\n",
              "    <tr>\n",
              "      <th>sex</th>\n",
              "      <th></th>\n",
              "    </tr>\n",
              "  </thead>\n",
              "  <tbody>\n",
              "    <tr>\n",
              "      <th>Female</th>\n",
              "      <td>12.070307</td>\n",
              "    </tr>\n",
              "    <tr>\n",
              "      <th>Male</th>\n",
              "      <td>14.015143</td>\n",
              "    </tr>\n",
              "  </tbody>\n",
              "</table>\n",
              "</div>"
            ],
            "text/plain": [
              "              age\n",
              "sex              \n",
              "Female  12.070307\n",
              "Male    14.015143"
            ]
          },
          "execution_count": 53,
          "metadata": {},
          "output_type": "execute_result"
        }
      ],
      "source": [
        "df[['sex','age']].groupby(['sex']).std()"
      ]
    },
    {
      "cell_type": "code",
      "execution_count": null,
      "metadata": {
        "id": "Lafc1vgtoKd0",
        "outputId": "a2ff95b2-45ee-4717-ae70-f6f82fb3af5f"
      },
      "outputs": [
        {
          "data": {
            "text/plain": [
              "list"
            ]
          },
          "execution_count": 72,
          "metadata": {},
          "output_type": "execute_result"
        }
      ],
      "source": [
        "x = [1, 2, 3]\n",
        "y = [1, 2, 3]\n",
        "type(x)"
      ]
    },
    {
      "cell_type": "code",
      "execution_count": null,
      "metadata": {
        "id": "fco8IIlQoKd1",
        "outputId": "c1e05272-16c9-453d-f0f7-40c549ab8d26"
      },
      "outputs": [
        {
          "data": {
            "text/plain": [
              "array([1, 4, 9])"
            ]
          },
          "execution_count": 68,
          "metadata": {},
          "output_type": "execute_result"
        }
      ],
      "source": [
        "x1 = np.array(x)\n",
        "y1 = np.array(y)\n",
        "z1 = x1*y1\n",
        "z1"
      ]
    },
    {
      "cell_type": "code",
      "execution_count": null,
      "metadata": {
        "id": "yYwcSYQWoKd2",
        "outputId": "dc4b15b7-022d-4529-bddc-eafa832baf10"
      },
      "outputs": [
        {
          "data": {
            "text/plain": [
              "14"
            ]
          },
          "execution_count": 71,
          "metadata": {},
          "output_type": "execute_result"
        }
      ],
      "source": [
        "np.sum(z1)"
      ]
    },
    {
      "cell_type": "code",
      "execution_count": null,
      "metadata": {
        "id": "ZBvynAS_oKd2",
        "outputId": "e7d20af3-6657-489b-d9eb-3a2d53b0a5aa"
      },
      "outputs": [
        {
          "data": {
            "image/png": "[encoded data removed]",
            "text/plain": [
              "<Figure size 432x288 with 1 Axes>"
            ]
          },
          "metadata": {
            "needs_background": "light"
          },
          "output_type": "display_data"
        }
      ],
      "source": [
        "plt.bar(sex.index,sex['name'])\n",
        "plt.title('Mój tytuł')\n",
        "#plt.legend()\n",
        "plt.show()"
      ]
    },
    {
      "cell_type": "code",
      "execution_count": null,
      "metadata": {
        "id": "Hiiz3olzoKd3",
        "outputId": "9fb95fe1-469b-4c6b-f920-df28760e124c"
      },
      "outputs": [
        {
          "data": {
            "text/plain": [
              "(array([4., 5., 9., 7.]),\n",
              " array([ 1.  ,  3.75,  6.5 ,  9.25, 12.  ]),\n",
              " <BarContainer object of 4 artists>)"
            ]
          },
          "execution_count": 88,
          "metadata": {},
          "output_type": "execute_result"
        },
        {
          "data": {
            "image/png": "[encoded data removed]",
            "text/plain": [
              "<Figure size 432x288 with 1 Axes>"
            ]
          },
          "metadata": {
            "needs_background": "light"
          },
          "output_type": "display_data"
        }
      ],
      "source": [
        "#histogram\n",
        "plt.hist(df['month'], bins=4)"
      ]
    },
    {
      "cell_type": "code",
      "execution_count": null,
      "metadata": {
        "id": "9J7ZJo89oKd4",
        "outputId": "1ab5e8da-de1b-4f48-9299-2f30424bd60d"
      },
      "outputs": [
        {
          "data": {
            "image/png": "[encoded data removed]",
            "text/plain": [
              "<Figure size 432x288 with 1 Axes>"
            ]
          },
          "metadata": {},
          "output_type": "display_data"
        }
      ],
      "source": [
        "#pie_chart\n",
        "plt.pie(sex['name'], labels = sex.index, autopct ='%1.1f%%')\n",
        "plt.title(\"Mój pierwszy wykres kołowy!\")\n",
        "plt.legend(title = 'Płeć')\n",
        "plt.show()"
      ]
    },
    {
      "cell_type": "code",
      "execution_count": null,
      "metadata": {
        "id": "g48POZ66oKd4"
      },
      "outputs": [],
      "source": [
        "def validatePesel(pesel):\n",
        "    if len(pesel) == 11:\n",
        "        wagi = [1,3,7,9,1,3,7,9,1,3]\n",
        "        wagi = np.array(wagi)\n",
        "        p = []\n",
        "        for i in pesel[:-1]:\n",
        "            p.append(int(i))\n",
        "        p = np.array(p)\n",
        "        result = wagi * p\n",
        "        result1 = result%10\n",
        "        result2 = sum(result1)\n",
        "        result3 = str(result2)[-1]\n",
        "        print(result3)\n",
        "        \n",
        "        #if pesel = index ostatni\n",
        "    else:\n",
        "        return \"nie oki\""
      ]
    },
    {
      "cell_type": "code",
      "execution_count": null,
      "metadata": {
        "id": "HtKN7TMVoKd5",
        "outputId": "c2ae7abe-570e-4059-cdaa-3d51439bd3af"
      },
      "outputs": [
        {
          "name": "stdout",
          "output_type": "stream",
          "text": [
            "9\n"
          ]
        }
      ],
      "source": [
        "validatePesel(\"01271398371\")"
      ]
    },
    {
      "cell_type": "code",
      "execution_count": null,
      "metadata": {
        "id": "bqnHVW7UoKd5"
      },
      "outputs": [],
      "source": []
    }
  ],
  "metadata": {
    "colab": {
      "provenance": [],
      "include_colab_link": true
    },
    "kernelspec": {
      "display_name": "Python 3 (ipykernel)",
      "language": "python",
      "name": "python3"
    },
    "language_info": {
      "codemirror_mode": {
        "name": "ipython",
        "version": 3
      },
      "file_extension": ".py",
      "mimetype": "text/x-python",
      "name": "python",
      "nbconvert_exporter": "python",
      "pygments_lexer": "ipython3",
      "version": "3.9.7"
    }
  },
  "nbformat": 4,
  "nbformat_minor": 0
}